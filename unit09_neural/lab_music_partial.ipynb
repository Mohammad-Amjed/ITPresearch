{
  "cells": [
    {
      "cell_type": "markdown",
      "metadata": {
        "id": "Di3pkXFIfBgU"
      },
      "source": [
        "# Lab:  Neural Networks for Music Classification\n",
        "\n",
        "In addition to the concepts in the [MNIST neural network demo](./demo2_mnist_neural.ipynb), in this lab, you will learn to:\n",
        "* Load a file from a URL\n",
        "* Extract simple features from audio samples for machine learning tasks such as speech recognition and classification\n",
        "* Build a simple neural network for music classification using these features\n",
        "* Use a callback to store the loss and accuracy history in the training process\n",
        "* Optimize the learning rate of the neural network\n",
        "\n",
        "To illustrate the basic concepts, we will look at a relatively simple music classification problem.  Given a sample of music, we want to determine which instrument (e.g. trumpet, violin, piano) is playing.  This dataset was generously supplied by [Prof. Juan Bello](http://steinhardt.nyu.edu/faculty/Juan_Pablo_Bello) at NYU Stenihardt  and his former PhD student Eric Humphrey (now at Spotify).  They have a complete website dedicated to deep learning methods in music informatics:\n",
        "\n",
        "http://marl.smusic.nyu.edu/wordpress/projects/feature-learning-deep-architectures/deep-learning-python-tutorial/\n",
        "\n",
        "You can also check out Juan's <a href=\"http://www.nyu.edu/classes/bello/ACA.html\">course</a>.\n",
        "\n"
      ]
    },
    {
      "cell_type": "markdown",
      "metadata": {
        "id": "1BrCF6K7fBgX"
      },
      "source": [
        "## Loading Tensorflow\n",
        "\n",
        "Before starting this lab, you will need to install [Tensorflow](https://www.tensorflow.org/install/).  If you are using [Google colaboratory](https://colab.research.google.com), Tensorflow is already installed.  Run the following command to ensure Tensorflow is installed."
      ]
    },
    {
      "cell_type": "code",
      "execution_count": 222,
      "metadata": {
        "id": "d_9tUd6yfBgY"
      },
      "outputs": [],
      "source": [
        "import tensorflow as tf"
      ]
    },
    {
      "cell_type": "markdown",
      "metadata": {
        "id": "qv4r9iMHfBgY"
      },
      "source": [
        "Then, load the other packages."
      ]
    },
    {
      "cell_type": "code",
      "execution_count": 223,
      "metadata": {
        "id": "wHpOdMADfBgZ"
      },
      "outputs": [],
      "source": [
        "import numpy as np\n",
        "import matplotlib\n",
        "import matplotlib.pyplot as plt"
      ]
    },
    {
      "cell_type": "markdown",
      "metadata": {
        "id": "QOMCqiYIfBgZ"
      },
      "source": [
        "## Audio Feature Extraction with Librosa\n",
        "\n",
        "The key to audio classification is to extract the correct features. In addition to `keras`, we will need the `librosa` package.  The `librosa` package in python has a rich set of methods extracting the features of audio samples commonly used in machine learning tasks such as speech recognition and sound classification.\n",
        "\n",
        "Installation instructions and complete documentation for the package are given on the [librosa main page](https://librosa.github.io/librosa/).  On most systems, you should be able to simply use:\n",
        "\n",
        "    pip install librosa\n",
        "    \n",
        "For Unix, you may need to load some additional packages:\n",
        "\n",
        "    sudo apt-get install build-essential\n",
        "    sudo apt-get install libxext-dev python-qt4 qt4-dev-tools\n",
        "    pip install librosa\n",
        "    \n",
        "After you have installed the package, try to import it."
      ]
    },
    {
      "cell_type": "code",
      "execution_count": 224,
      "metadata": {
        "id": "YP7rYuQKfBgZ"
      },
      "outputs": [],
      "source": [
        "import librosa\n",
        "import librosa.display\n",
        "import librosa.feature"
      ]
    },
    {
      "cell_type": "markdown",
      "metadata": {
        "id": "G6GrFM7XfBgZ"
      },
      "source": [
        "In this lab, we will use a set of music samples from the website:\n",
        "\n",
        "http://theremin.music.uiowa.edu\n",
        "\n",
        "This website has a great set of samples for audio processing.  Look on the web for how to use the `requests.get` and `file.write` commands to load the file at the URL provided into your working directory.\n",
        "\n",
        "You can play the audio sample by copying the file to your local machine and playing it on any media player.  If you listen to it you will hear a soprano saxaphone (with vibrato) playing four notes (C, C#, D, Eb)."
      ]
    },
    {
      "cell_type": "code",
      "execution_count": 225,
      "metadata": {
        "id": "439uz8QTfBgZ"
      },
      "outputs": [],
      "source": [
        "import requests\n",
        "\n",
        "fn = \"SopSax.Vib.pp.C6Eb6.aiff\"\n",
        "url = \"http://theremin.music.uiowa.edu/sound files/MIS/Woodwinds/sopranosaxophone/\"+fn\n",
        "\n",
        "# Load the file from url and save it in a file under the name fn\n",
        "response = requests.get(url, stream=True)\n",
        "response.raise_for_status()  # Raise an exception for bad status codes\n",
        "\n",
        "with open(fn, 'wb') as f:\n",
        "    for chunk in response.iter_content(chunk_size=8192):\n",
        "        f.write(chunk)"
      ]
    },
    {
      "cell_type": "markdown",
      "metadata": {
        "id": "tebUdivyfBgZ"
      },
      "source": [
        "Next, use `librosa` command `librosa.load` to read the audio file with filename `fn` and get the samples `y` and sample rate `sr`."
      ]
    },
    {
      "cell_type": "code",
      "execution_count": 226,
      "metadata": {
        "id": "S3J3QRi1fBga"
      },
      "outputs": [],
      "source": [
        "import librosa\n",
        "y, sr = librosa.load(fn)"
      ]
    },
    {
      "cell_type": "markdown",
      "metadata": {
        "id": "JR35RjzJfBga"
      },
      "source": [
        "Extracting features from audio files is an entire subject on its own right.  A commonly used set of features are called the Mel Frequency Cepstral Coefficients (MFCCs).  These are derived from the so-called mel spectrogram which is something like a regular spectrogram, but the power and frequency are represented in log scale, which more naturally aligns with human perceptual processing.  You can run the code below to display the mel spectrogram from the audio sample.\n",
        "\n",
        "You can easily see the four notes played in the audio track.  You also see the 'harmonics' of each notes, which are other tones at integer multiples of the fundamental frequency of each note."
      ]
    },
    {
      "cell_type": "code",
      "execution_count": 227,
      "metadata": {
        "colab": {
          "base_uri": "https://localhost:8080/",
          "height": 487
        },
        "id": "8RutD8wffBga",
        "outputId": "0189d2f0-7988-4322-b58e-f1c9021cfe73"
      },
      "outputs": [
        {
          "output_type": "display_data",
          "data": {
            "text/plain": [
              "<Figure size 640x480 with 2 Axes>"
            ],
            "image/png": "[encoded data removed]"
          },
          "metadata": {}
        }
      ],
      "source": [
        "import matplotlib.pyplot as plt\n",
        "\n",
        "S = librosa.feature.melspectrogram(y=y, sr=sr, n_mels=128, fmax=8000)\n",
        "librosa.display.specshow(librosa.amplitude_to_db(S),\n",
        "                         y_axis='mel', fmax=8000, x_axis='time')\n",
        "plt.colorbar(format='%+2.0f dB')\n",
        "plt.title('Mel spectrogram')\n",
        "plt.tight_layout()"
      ]
    },
    {
      "cell_type": "markdown",
      "metadata": {
        "id": "cL3P_xbgfBga"
      },
      "source": [
        "## Downloading the Data\n",
        "\n",
        "Using the MFCC features described above, Eric Humphrey and Juan Bellow have created a complete data set that can used for instrument classification.  Essentially, they collected a number of data files from the website above.  For each audio file, the segmented the track into notes and then extracted 120 MFCCs for each note.  The goal is to recognize the instrument from the 120 MFCCs.  The process of feature extraction is quite involved.  So, we will just use their processed data provided at:\n",
        "\n",
        "https://github.com/marl/dl4mir-tutorial/blob/master/README.md\n",
        "\n",
        "Note the password.  Load the four files into some directory, say  `instrument_dataset`.  Then, load them with the commands."
      ]
    },
    {
      "cell_type": "code",
      "source": [
        "import numpy as np\n",
        "\n",
        "file_path = 'instrument_dataset/uiowa_train_data.npy'\n",
        "\n",
        "# Open the file and skip the header\n",
        "try:\n",
        "    with open(file_path, 'rb') as f:\n",
        "        # Skip the header (manually set offset to skip the problematic header size)\n",
        "        f.seek(20115)  # This is the header size as indicated by the error\n",
        "\n",
        "        # Load the raw binary data\n",
        "        raw_data = np.fromfile(f, dtype=np.float64)  # Assuming dtype <f8 from the header\n",
        "        print(f\"Raw data size: {raw_data.size}\")\n",
        "\n",
        "        # Reshape the data based on known feature size (120 per sample)\n",
        "        if raw_data.size % 120 == 0:\n",
        "            Xtr = raw_data.reshape((-1, 120))\n",
        "            print(f\"Reshaped data shape: {Xtr.shape}\")\n",
        "        else:\n",
        "            print(f\"Data size ({raw_data.size}) cannot be evenly divided into 120 features per sample.\")\n",
        "\n",
        "except Exception as e:\n",
        "    print(f\"An error occurred while reading the file: {e}\")\n"
      ],
      "metadata": {
        "colab": {
          "base_uri": "https://localhost:8080/"
        },
        "id": "QIBwiTgKHbNb",
        "outputId": "696b440a-e683-41a8-d9ec-f0a0fb70a998"
      },
      "execution_count": 228,
      "outputs": [
        {
          "output_type": "stream",
          "name": "stdout",
          "text": [
            "Raw data size: 7947135\n",
            "Data size (7947135) cannot be evenly divided into 120 features per sample.\n"
          ]
        }
      ]
    },
    {
      "cell_type": "code",
      "execution_count": 229,
      "metadata": {
        "id": "WeGkH0xFfBga"
      },
      "outputs": [],
      "source": [
        "import numpy as np\n",
        "np.lib.format.max_header_size = 25000\n",
        "data_dir = 'instrument_dataset/'\n",
        "# Xtr = np.load(data_dir+'uiowa_train_data.npy')\n",
        "ytr = np.load(data_dir+'uiowa_train_labels.npy')\n",
        "Xts = np.load(data_dir+'uiowa_test_data.npy')\n",
        "yts = np.load(data_dir+'uiowa_test_labels.npy')"
      ]
    },
    {
      "cell_type": "code",
      "source": [
        "import numpy as np\n",
        "\n",
        "# Define the directory and file paths\n",
        "data_dir = 'instrument_dataset/'\n",
        "train_data_path = data_dir + 'uiowa_train_data.npy'\n",
        "train_labels_path = data_dir + 'uiowa_train_labels.npy'\n",
        "\n",
        "# Load the training labels\n",
        "ytr = np.load(train_labels_path)\n",
        "print(f\"Original training labels shape: {ytr.shape}\")\n",
        "\n",
        "# Load the raw training data\n",
        "with open(train_data_path, 'rb') as f:\n",
        "    # Skip the problematic header\n",
        "    f.seek(20115)  # Adjusted based on earlier header size inspection\n",
        "    raw_data = np.fromfile(f, dtype=np.float64)\n",
        "\n",
        "print(f\"Raw training data size: {raw_data.size}\")\n",
        "\n",
        "# Calculate the maximum number of complete samples\n",
        "features_per_sample = 120\n",
        "max_samples = raw_data.size // features_per_sample\n",
        "trimmed_data_size = max_samples * features_per_sample\n",
        "\n",
        "# Trim and reshape the training data\n",
        "Xtr = raw_data[:trimmed_data_size].reshape((max_samples, features_per_sample))\n",
        "print(f\"Trimmed training data shape: {Xtr.shape}\")\n",
        "\n",
        "# Trim the training labels to match the number of samples in Xtr\n",
        "ytr = ytr[:max_samples]\n",
        "print(f\"Trimmed training labels shape: {ytr.shape}\")\n",
        "\n",
        "# Load the test data and labels as usual\n",
        "Xts = np.load(data_dir + 'uiowa_test_data.npy')\n",
        "yts = np.load(data_dir + 'uiowa_test_labels.npy')\n",
        "\n",
        "print(f\"Test data shape: {Xts.shape}\")\n",
        "print(f\"Test labels shape: {yts.shape}\")\n"
      ],
      "metadata": {
        "colab": {
          "base_uri": "https://localhost:8080/"
        },
        "id": "JIXW-CtLKSeP",
        "outputId": "be99dcd2-539f-4b4c-ec78-d694a3e06398"
      },
      "execution_count": 230,
      "outputs": [
        {
          "output_type": "stream",
          "name": "stdout",
          "text": [
            "Original training labels shape: (66247,)\n",
            "Raw training data size: 7947135\n",
            "Trimmed training data shape: (66226, 120)\n",
            "Trimmed training labels shape: (66226,)\n",
            "Test data shape: (14904, 120)\n",
            "Test labels shape: (14904,)\n"
          ]
        }
      ]
    },
    {
      "cell_type": "code",
      "source": [],
      "metadata": {
        "id": "WEsw_CgMLQ6P"
      },
      "execution_count": 230,
      "outputs": []
    },
    {
      "cell_type": "markdown",
      "metadata": {
        "id": "ULR1R6_hfBga"
      },
      "source": [
        "Looking at the data files:\n",
        "* What are the number of training and test samples?\n",
        "* What is the number of features for each sample?\n",
        "* How many classes (i.e. instruments) are there per class?\n"
      ]
    },
    {
      "cell_type": "code",
      "execution_count": 231,
      "metadata": {
        "colab": {
          "base_uri": "https://localhost:8080/"
        },
        "id": "prag-sypfBga",
        "outputId": "d4aa6c13-fd56-4d4a-d344-b118faf00bf9"
      },
      "outputs": [
        {
          "output_type": "stream",
          "name": "stdout",
          "text": [
            "number of training samples 66226\n",
            "number of test samples 14904\n",
            "number of features per sample 120\n",
            "number of classes 10\n"
          ]
        }
      ],
      "source": [
        "print(\"number of training samples\", Xtr.shape[0])\n",
        "print(\"number of test samples\", Xts.shape[0])\n",
        "print(\"number of features per sample\", Xtr.shape[1])\n",
        "print(\"number of classes\", len(np.unique(ytr)))"
      ]
    },
    {
      "cell_type": "markdown",
      "metadata": {
        "id": "-JMwFpoifBga"
      },
      "source": [
        "Before continuing, you must scale the training and test data, `Xtr` and `Xts`.  Compute the mean and std deviation of each feature in `Xtr` and create a new training data set, `Xtr_scale`, by subtracting the mean and dividing by the std deviation.  Also compute a scaled test data set, `Xts_scale` using the mean and std deviation learned from the training data set."
      ]
    },
    {
      "cell_type": "code",
      "execution_count": 232,
      "metadata": {
        "colab": {
          "base_uri": "https://localhost:8080/"
        },
        "id": "iGY5cNY5fBga",
        "outputId": "9a3a8cce-a6ae-4e7f-f393-6eb0c931fbed"
      },
      "outputs": [
        {
          "output_type": "stream",
          "name": "stderr",
          "text": [
            "<ipython-input-232-04b65b8e5da6>:9: RuntimeWarning: overflow encountered in subtract\n",
            "  Xtr_scale = (Xtr - Xtr_min) / (Xtr_max - Xtr_min)\n",
            "<ipython-input-232-04b65b8e5da6>:9: RuntimeWarning: invalid value encountered in subtract\n",
            "  Xtr_scale = (Xtr - Xtr_min) / (Xtr_max - Xtr_min)\n",
            "<ipython-input-232-04b65b8e5da6>:9: RuntimeWarning: invalid value encountered in divide\n",
            "  Xtr_scale = (Xtr - Xtr_min) / (Xtr_max - Xtr_min)\n",
            "<ipython-input-232-04b65b8e5da6>:10: RuntimeWarning: invalid value encountered in divide\n",
            "  Xts_scale = (Xts - Xtr_min) / (Xtr_max - Xtr_min)\n"
          ]
        }
      ],
      "source": [
        "# # Replace NaN values with the mean of the respective column\n",
        "Xtr = np.nan_to_num(Xtr, nan=np.nanmean(Xtr, axis=0))\n",
        "# epsilon = 1e-8  # Small constant to prevent division by zero\n",
        "# Xtr_scale = (Xtr - np.mean(Xtr, axis=0)) / (np.std(Xtr, axis=0) + epsilon)\n",
        "# Xts_scale = (Xts - np.mean(Xtr, axis=0)) / (np.std(Xtr, axis=0) + epsilon)\n",
        "Xtr_min = np.min(Xtr, axis=0)\n",
        "Xtr_max = np.max(Xtr, axis=0)\n",
        "\n",
        "Xtr_scale = (Xtr - Xtr_min) / (Xtr_max - Xtr_min)\n",
        "Xts_scale = (Xts - Xtr_min) / (Xtr_max - Xtr_min)\n"
      ]
    },
    {
      "cell_type": "markdown",
      "metadata": {
        "collapsed": true,
        "id": "j9SIqJdmfBgb"
      },
      "source": [
        "## Building a Neural Network Classifier\n",
        "\n",
        "Following the example in [MNIST neural network demo](./mnist_neural.ipynb), clear the keras session.  Then, create a neural network `model` with:\n",
        "* `nh=256` hidden units\n",
        "* `sigmoid` activation\n",
        "* select the input and output shapes correctly\n",
        "* print the model summary"
      ]
    },
    {
      "cell_type": "code",
      "execution_count": 233,
      "metadata": {
        "id": "1iY-Rsy5fBgb"
      },
      "outputs": [],
      "source": [
        "from tensorflow.keras.models import Model, Sequential\n",
        "from tensorflow.keras.layers import Dense, Activation\n",
        "import tensorflow.keras.backend as K\n"
      ]
    },
    {
      "cell_type": "code",
      "execution_count": 234,
      "metadata": {
        "id": "7nkrN7MhfBgb"
      },
      "outputs": [],
      "source": [
        "# TODO clear session\n",
        "K.clear_session()"
      ]
    },
    {
      "cell_type": "code",
      "execution_count": 235,
      "metadata": {
        "id": "yxPD03-hfBgb"
      },
      "outputs": [],
      "source": [
        "# TODO: construct the model\n",
        "model = Sequential([\n",
        "    Dense(256, input_shape=(120,), activation='sigmoid'),\n",
        "    Dense(np.unique(ytr).size, activation='softmax')\n",
        "])"
      ]
    },
    {
      "cell_type": "code",
      "execution_count": 236,
      "metadata": {
        "colab": {
          "base_uri": "https://localhost:8080/",
          "height": 199
        },
        "id": "Ktgww7vEfBgb",
        "outputId": "b2592719-aff5-407f-ae84-a5b9b3e6b243"
      },
      "outputs": [
        {
          "output_type": "display_data",
          "data": {
            "text/plain": [
              "\u001b[1mModel: \"sequential\"\u001b[0m\n"
            ],
            "text/html": [
              "<pre style=\"white-space:pre;overflow-x:auto;line-height:normal;font-family:Menlo,'DejaVu Sans Mono',consolas,'Courier New',monospace\"><span style=\"font-weight: bold\">Model: \"sequential\"</span>\n",
              "</pre>\n"
            ]
          },
          "metadata": {}
        },
        {
          "output_type": "display_data",
          "data": {
            "text/plain": [
              "┏━━━━━━━━━━━━━━━━━━━━━━━━━━━━━━━━━━━━━━┳━━━━━━━━━━━━━━━━━━━━━━━━━━━━━┳━━━━━━━━━━━━━━━━━┓\n",
              "┃\u001b[1m \u001b[0m\u001b[1mLayer (type)                        \u001b[0m\u001b[1m \u001b[0m┃\u001b[1m \u001b[0m\u001b[1mOutput Shape               \u001b[0m\u001b[1m \u001b[0m┃\u001b[1m \u001b[0m\u001b[1m        Param #\u001b[0m\u001b[1m \u001b[0m┃\n",
              "┡━━━━━━━━━━━━━━━━━━━━━━━━━━━━━━━━━━━━━━╇━━━━━━━━━━━━━━━━━━━━━━━━━━━━━╇━━━━━━━━━━━━━━━━━┩\n",
              "│ dense (\u001b[38;5;33mDense\u001b[0m)                        │ (\u001b[38;5;45mNone\u001b[0m, \u001b[38;5;34m256\u001b[0m)                 │          \u001b[38;5;34m30,976\u001b[0m │\n",
              "├──────────────────────────────────────┼─────────────────────────────┼─────────────────┤\n",
              "│ dense_1 (\u001b[38;5;33mDense\u001b[0m)                      │ (\u001b[38;5;45mNone\u001b[0m, \u001b[38;5;34m10\u001b[0m)                  │           \u001b[38;5;34m2,570\u001b[0m │\n",
              "└──────────────────────────────────────┴─────────────────────────────┴─────────────────┘\n"
            ],
            "text/html": [
              "<pre style=\"white-space:pre;overflow-x:auto;line-height:normal;font-family:Menlo,'DejaVu Sans Mono',consolas,'Courier New',monospace\">┏━━━━━━━━━━━━━━━━━━━━━━━━━━━━━━━━━━━━━━┳━━━━━━━━━━━━━━━━━━━━━━━━━━━━━┳━━━━━━━━━━━━━━━━━┓\n",
              "┃<span style=\"font-weight: bold\"> Layer (type)                         </span>┃<span style=\"font-weight: bold\"> Output Shape                </span>┃<span style=\"font-weight: bold\">         Param # </span>┃\n",
              "┡━━━━━━━━━━━━━━━━━━━━━━━━━━━━━━━━━━━━━━╇━━━━━━━━━━━━━━━━━━━━━━━━━━━━━╇━━━━━━━━━━━━━━━━━┩\n",
              "│ dense (<span style=\"color: #0087ff; text-decoration-color: #0087ff\">Dense</span>)                        │ (<span style=\"color: #00d7ff; text-decoration-color: #00d7ff\">None</span>, <span style=\"color: #00af00; text-decoration-color: #00af00\">256</span>)                 │          <span style=\"color: #00af00; text-decoration-color: #00af00\">30,976</span> │\n",
              "├──────────────────────────────────────┼─────────────────────────────┼─────────────────┤\n",
              "│ dense_1 (<span style=\"color: #0087ff; text-decoration-color: #0087ff\">Dense</span>)                      │ (<span style=\"color: #00d7ff; text-decoration-color: #00d7ff\">None</span>, <span style=\"color: #00af00; text-decoration-color: #00af00\">10</span>)                  │           <span style=\"color: #00af00; text-decoration-color: #00af00\">2,570</span> │\n",
              "└──────────────────────────────────────┴─────────────────────────────┴─────────────────┘\n",
              "</pre>\n"
            ]
          },
          "metadata": {}
        },
        {
          "output_type": "display_data",
          "data": {
            "text/plain": [
              "\u001b[1m Total params: \u001b[0m\u001b[38;5;34m33,546\u001b[0m (131.04 KB)\n"
            ],
            "text/html": [
              "<pre style=\"white-space:pre;overflow-x:auto;line-height:normal;font-family:Menlo,'DejaVu Sans Mono',consolas,'Courier New',monospace\"><span style=\"font-weight: bold\"> Total params: </span><span style=\"color: #00af00; text-decoration-color: #00af00\">33,546</span> (131.04 KB)\n",
              "</pre>\n"
            ]
          },
          "metadata": {}
        },
        {
          "output_type": "display_data",
          "data": {
            "text/plain": [
              "\u001b[1m Trainable params: \u001b[0m\u001b[38;5;34m33,546\u001b[0m (131.04 KB)\n"
            ],
            "text/html": [
              "<pre style=\"white-space:pre;overflow-x:auto;line-height:normal;font-family:Menlo,'DejaVu Sans Mono',consolas,'Courier New',monospace\"><span style=\"font-weight: bold\"> Trainable params: </span><span style=\"color: #00af00; text-decoration-color: #00af00\">33,546</span> (131.04 KB)\n",
              "</pre>\n"
            ]
          },
          "metadata": {}
        },
        {
          "output_type": "display_data",
          "data": {
            "text/plain": [
              "\u001b[1m Non-trainable params: \u001b[0m\u001b[38;5;34m0\u001b[0m (0.00 B)\n"
            ],
            "text/html": [
              "<pre style=\"white-space:pre;overflow-x:auto;line-height:normal;font-family:Menlo,'DejaVu Sans Mono',consolas,'Courier New',monospace\"><span style=\"font-weight: bold\"> Non-trainable params: </span><span style=\"color: #00af00; text-decoration-color: #00af00\">0</span> (0.00 B)\n",
              "</pre>\n"
            ]
          },
          "metadata": {}
        }
      ],
      "source": [
        "model.summary()"
      ]
    },
    {
      "cell_type": "markdown",
      "metadata": {
        "id": "3wiBi-YkfBgb"
      },
      "source": [
        "Create an optimizer and compile the model.  Select the appropriate loss function and metrics.  For the optimizer, use the Adam optimizer with a learning rate of 0.001"
      ]
    },
    {
      "cell_type": "code",
      "execution_count": 237,
      "metadata": {
        "scrolled": true,
        "id": "j74sbUmtfBgb"
      },
      "outputs": [],
      "source": [
        "# TODO\n",
        "from tensorflow.keras.optimizers import Adam\n",
        "opt = Adam(learning_rate = 0.001)\n",
        "model.compile(optimizer=opt, loss=\"sparse_categorical_crossentropy\", metrics=[\"accuracy\"])"
      ]
    },
    {
      "cell_type": "markdown",
      "metadata": {
        "id": "QuPrc1MwfBgb"
      },
      "source": [
        "Fit the model for 10 epochs using the scaled data for both the training and validation.  Use the `validation_data` option to pass the test data.  Also, pass the callback class create above.  Use a batch size of 100.  Your final accuracy should be >99%."
      ]
    },
    {
      "cell_type": "code",
      "source": [
        "# Identify rows with NaN values in training and test data\n",
        "nan_rows_train = np.where(np.isnan(Xtr))[0]\n",
        "nan_rows_test = np.where(np.isnan(Xtr_scale))[0]\n",
        "\n",
        "print(f\"Rows with NaN in training data before scalling: {nan_rows_train}\")\n",
        "print(f\"Rows with NaN in test data after scalling: {nan_rows_test}\")\n"
      ],
      "metadata": {
        "id": "ot_yOjNyUM8s",
        "outputId": "96757ff8-eb07-4394-f115-4aef17e060b1",
        "colab": {
          "base_uri": "https://localhost:8080/"
        }
      },
      "execution_count": 238,
      "outputs": [
        {
          "output_type": "stream",
          "name": "stdout",
          "text": [
            "Rows with NaN in training data before scalling: []\n",
            "Rows with NaN in test data after scalling: [    0     0     0 ... 66225 66225 66225]\n"
          ]
        }
      ]
    },
    {
      "cell_type": "code",
      "execution_count": 243,
      "metadata": {
        "scrolled": true,
        "colab": {
          "base_uri": "https://localhost:8080/"
        },
        "id": "xPNGgbvZfBgb",
        "outputId": "492ffd97-b662-4c04-dce1-479ff84a5602"
      },
      "outputs": [
        {
          "output_type": "stream",
          "name": "stdout",
          "text": [
            "Epoch 1/10\n",
            "\u001b[1m663/663\u001b[0m \u001b[32m━━━━━━━━━━━━━━━━━━━━\u001b[0m\u001b[37m\u001b[0m \u001b[1m4s\u001b[0m 4ms/step - accuracy: 0.1042 - loss: nan - val_accuracy: 0.0986 - val_loss: nan\n",
            "Epoch 2/10\n",
            "\u001b[1m663/663\u001b[0m \u001b[32m━━━━━━━━━━━━━━━━━━━━\u001b[0m\u001b[37m\u001b[0m \u001b[1m6s\u001b[0m 5ms/step - accuracy: 0.1031 - loss: nan - val_accuracy: 0.0986 - val_loss: nan\n",
            "Epoch 3/10\n",
            "\u001b[1m663/663\u001b[0m \u001b[32m━━━━━━━━━━━━━━━━━━━━\u001b[0m\u001b[37m\u001b[0m \u001b[1m4s\u001b[0m 4ms/step - accuracy: 0.1022 - loss: nan - val_accuracy: 0.0986 - val_loss: nan\n",
            "Epoch 4/10\n",
            "\u001b[1m663/663\u001b[0m \u001b[32m━━━━━━━━━━━━━━━━━━━━\u001b[0m\u001b[37m\u001b[0m \u001b[1m3s\u001b[0m 4ms/step - accuracy: 0.1023 - loss: nan - val_accuracy: 0.0986 - val_loss: nan\n",
            "Epoch 5/10\n",
            "\u001b[1m663/663\u001b[0m \u001b[32m━━━━━━━━━━━━━━━━━━━━\u001b[0m\u001b[37m\u001b[0m \u001b[1m3s\u001b[0m 4ms/step - accuracy: 0.1004 - loss: nan - val_accuracy: 0.0986 - val_loss: nan\n",
            "Epoch 6/10\n",
            "\u001b[1m663/663\u001b[0m \u001b[32m━━━━━━━━━━━━━━━━━━━━\u001b[0m\u001b[37m\u001b[0m \u001b[1m3s\u001b[0m 4ms/step - accuracy: 0.1043 - loss: nan - val_accuracy: 0.0986 - val_loss: nan\n",
            "Epoch 7/10\n",
            "\u001b[1m663/663\u001b[0m \u001b[32m━━━━━━━━━━━━━━━━━━━━\u001b[0m\u001b[37m\u001b[0m \u001b[1m4s\u001b[0m 6ms/step - accuracy: 0.0996 - loss: nan - val_accuracy: 0.0986 - val_loss: nan\n",
            "Epoch 8/10\n",
            "\u001b[1m663/663\u001b[0m \u001b[32m━━━━━━━━━━━━━━━━━━━━\u001b[0m\u001b[37m\u001b[0m \u001b[1m4s\u001b[0m 4ms/step - accuracy: 0.0978 - loss: nan - val_accuracy: 0.0986 - val_loss: nan\n",
            "Epoch 9/10\n",
            "\u001b[1m663/663\u001b[0m \u001b[32m━━━━━━━━━━━━━━━━━━━━\u001b[0m\u001b[37m\u001b[0m \u001b[1m5s\u001b[0m 4ms/step - accuracy: 0.1015 - loss: nan - val_accuracy: 0.0986 - val_loss: nan\n",
            "Epoch 10/10\n",
            "\u001b[1m663/663\u001b[0m \u001b[32m━━━━━━━━━━━━━━━━━━━━\u001b[0m\u001b[37m\u001b[0m \u001b[1m4s\u001b[0m 6ms/step - accuracy: 0.1019 - loss: nan - val_accuracy: 0.0986 - val_loss: nan\n"
          ]
        }
      ],
      "source": [
        "# TODO\n",
        "hist = model.fit(Xtr_scale,ytr, epochs=10, batch_size=100, validation_data=(Xts_scale,yts))"
      ]
    },
    {
      "cell_type": "markdown",
      "metadata": {
        "id": "C90KkfHWfBgb"
      },
      "source": [
        "Plot the validation accuracy saved in `hist.history` dictionary. This gives one accuracy value per epoch.  You should see that the validation accuracy saturates at a little higher than 99%.  After that it \"bounces around\" due to the noise in the stochastic gradient descent."
      ]
    },
    {
      "cell_type": "code",
      "execution_count": 244,
      "metadata": {
        "colab": {
          "base_uri": "https://localhost:8080/",
          "height": 472
        },
        "id": "T_xsFRC0fBgb",
        "outputId": "2a4e9854-e526-4b3a-ff78-84cf9b5f4867"
      },
      "outputs": [
        {
          "output_type": "display_data",
          "data": {
            "text/plain": [
              "<Figure size 640x480 with 1 Axes>"
            ],
            "image/png": "[encoded data removed]"
          },
          "metadata": {}
        }
      ],
      "source": [
        "# prompt: Plot the validation accuracy saved in hist.history dictionary. This gives one accuracy value per epoch. You should see that the validation accuracy saturates at a little higher than 99%. After that it \"bounces around\" due to the noise in the stochastic gradient descent.\n",
        "import matplotlib.pyplot as plt\n",
        "plt.plot(hist.history['val_accuracy'])\n",
        "plt.title('Validation accuracy history')\n",
        "plt.xlabel('Epoch')\n",
        "plt.ylabel('Accuracy')\n",
        "plt.show()"
      ]
    },
    {
      "cell_type": "markdown",
      "source": [
        "Plot the loss values saved in the `hist.history` dictionary.  You should see that the loss is steadily decreasing.  Use the `semilogy` plot."
      ],
      "metadata": {
        "id": "g8FUiI2uYuNd"
      }
    },
    {
      "cell_type": "code",
      "source": [
        "plt.semilogy(hist.history['loss'])\n",
        "plt.title('Loss history')\n",
        "plt.xlabel('Epoch')\n",
        "plt.ylabel('Loss')\n",
        "plt.show()"
      ],
      "metadata": {
        "id": "lRav-1ZKYu0N",
        "outputId": "1e769fe6-ca01-4e76-e8d7-9f9cc239f140",
        "colab": {
          "base_uri": "https://localhost:8080/",
          "height": 472
        }
      },
      "execution_count": 245,
      "outputs": [
        {
          "output_type": "display_data",
          "data": {
            "text/plain": [
              "<Figure size 640x480 with 1 Axes>"
            ],
            "image/png": "[encoded data removed]"
          },
          "metadata": {}
        }
      ]
    },
    {
      "cell_type": "markdown",
      "metadata": {
        "id": "YL9COH_9fBgc"
      },
      "source": [
        "## Optimizing the Learning Rate\n",
        "\n",
        "One challenge in training neural networks is the selection of the learning rate.  Rerun the above code, trying four learning rates as shown in the vector `rates`.  For each learning rate:\n",
        "* clear the session\n",
        "* construct the network\n",
        "* select the optimizer.  Use the Adam optimizer with the appropriate learrning rate.\n",
        "* train the model for 20 epochs\n",
        "* save the accuracy and losses"
      ]
    },
    {
      "cell_type": "code",
      "execution_count": 220,
      "metadata": {
        "id": "XZAbTpmLfBgc"
      },
      "outputs": [],
      "source": [
        "rates = [0.01,0.001,0.0001]\n",
        "batch_size = 100\n",
        "loss_hist = []\n",
        "\n",
        "# TODO\n",
        "# for lr in rate:\n",
        "#    ...\n"
      ]
    },
    {
      "cell_type": "markdown",
      "metadata": {
        "id": "OQsyvUVUfBgc"
      },
      "source": [
        "Plot the loss funciton vs. the epoch number for all three learning rates on one graph.  You should see that the lower learning rates are more stable, but converge slower."
      ]
    },
    {
      "cell_type": "code",
      "execution_count": 221,
      "metadata": {
        "id": "6mDsFHC2fBgc"
      },
      "outputs": [],
      "source": [
        "# TODO"
      ]
    },
    {
      "cell_type": "code",
      "execution_count": 221,
      "metadata": {
        "id": "gt73O5A7fBgc"
      },
      "outputs": [],
      "source": []
    },
    {
      "cell_type": "code",
      "execution_count": 221,
      "metadata": {
        "id": "-TAFNFPjfBgc"
      },
      "outputs": [],
      "source": []
    }
  ],
  "metadata": {
    "anaconda-cloud": {},
    "kernelspec": {
      "display_name": "Python 3",
      "language": "python",
      "name": "python3"
    },
    "language_info": {
      "codemirror_mode": {
        "name": "ipython",
        "version": 3
      },
      "file_extension": ".py",
      "mimetype": "text/x-python",
      "name": "python",
      "nbconvert_exporter": "python",
      "pygments_lexer": "ipython3",
      "version": "3.8.3"
    },
    "colab": {
      "provenance": []
    }
  },
  "nbformat": 4,
  "nbformat_minor": 0
}